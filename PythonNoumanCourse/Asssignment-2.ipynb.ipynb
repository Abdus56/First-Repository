{
 "cells": [
  {
   "cell_type": "markdown",
   "id": "896b6bd1",
   "metadata": {},
   "source": [
    "# Abdus Samad_Assignment2"
   ]
  },
  {
   "cell_type": "code",
   "execution_count": 6,
   "id": "ff66d75c",
   "metadata": {},
   "outputs": [
    {
     "name": "stdout",
     "output_type": "stream",
     "text": [
      "['Ahmad', 'Ayesha', 'Ali', 'Abeer']\n",
      "['Ahmad', 'Ayesha', 'Ali', 'Abeer', 'Arzo']\n",
      "['Ahmad', 'Ayesha', 'Ali', 'Abeer', 'Arzo', 'Bareera', 'Bano', 'Bilal', 'Abeer']\n"
     ]
    }
   ],
   "source": [
    "#Part-1\n",
    "S1 = [\"Ahmad\",\"Ayesha\",\"Ali\", \"Abeer\"]\n",
    "S2 = [\"Bareera\", \"Bano\",\"Bilal\", \"Abeer\"]\n",
    "print(S1)\n",
    "S1.insert(4,\"Arzo\")\n",
    "print(S1)\n",
    "L3 = S1 + S2\n",
    "print(L3)"
   ]
  },
  {
   "cell_type": "code",
   "execution_count": 15,
   "id": "327a5cc7",
   "metadata": {},
   "outputs": [
    {
     "name": "stdout",
     "output_type": "stream",
     "text": [
      "[{'Bano', 'Bareera', 'Abeer', 'Bilal'}, {'Ayesha', 'Abeer', 'Ali', 'Ahmad'}]\n",
      "{'Bano', 'Bareera', 'Ayesha', 'Ali', 'Ahmad', 'Abeer', 'Bilal'}\n",
      "['Ahmad', 'Ayesha', 'Ali', 'Abeer', 'Arzo', 'Bareera', 'Bano', 'Bilal', 'Abeer']\n"
     ]
    }
   ],
   "source": [
    "#Part-2\n",
    "S1 = {\"Ahmad\",\"Ayesha\",\"Ali\", \"Abeer\"}\n",
    "S2 = {\"Bareera\", \"Bano\",\"Bilal\", \"Abeer\"}\n",
    "print([S2, S1])\n",
    "students = {\"Ahmad\",\"Ayesha\",\"Ali\", \"Abeer\",\"Bareera\", \"Bano\",\"Bilal\", \"Abeer\"}\n",
    "S3 = students\n",
    "print (S3)\n",
    "print(L3)\n",
    "#We know that in set repeat values are not allowed. That's why we have one Abeer although he is in Python and SQL class but when we mixed both sets then Abeer get eliminated and we left one Abeer in the set. Name are organized as first are female names and then male.Set does it automatically without our command.\n",
    "#List is just collection of objects. In list you can have as many repetive values as you can. We can see Abeer name twice as he is both classes and names cannot be organized byy itself and it depend on us how we organized these names iin list."
   ]
  },
  {
   "cell_type": "code",
   "execution_count": 17,
   "id": "a1c163e1",
   "metadata": {},
   "outputs": [
    {
     "data": {
      "text/plain": [
       "dict_items([(22020880, 'Ahmad'), (22020660, 'Ayesha'), (22020450, 'Ali'), (22020110, 'Abeer'), (22020290, 'Arzo'), (22020550, 'Bareera'), (22020350, 'Bano'), (22020890, 'Bilal'), (22020770, 'Abeer')])"
      ]
     },
     "execution_count": 17,
     "metadata": {},
     "output_type": "execute_result"
    }
   ],
   "source": [
    "#Part_3\n",
    "D1 = {22020880:\"Ahmad\", 22020660:\"Ayesha\", 22020450:\"Ali\", 22020110:\"Abeer\", 22020290:\"Arzo\", 22020550:\"Bareera\", 22020350:\"Bano\", 22020890:\"Bilal\", 22020770:\"Abeer\"}\n",
    "D1.keys()\n"
   ]
  }
 ],
 "metadata": {
  "kernelspec": {
   "display_name": "Python 3 (ipykernel)",
   "language": "python",
   "name": "python3"
  },
  "language_info": {
   "codemirror_mode": {
    "name": "ipython",
    "version": 3
   },
   "file_extension": ".py",
   "mimetype": "text/x-python",
   "name": "python",
   "nbconvert_exporter": "python",
   "pygments_lexer": "ipython3",
   "version": "3.9.12"
  }
 },
 "nbformat": 4,
 "nbformat_minor": 5
}

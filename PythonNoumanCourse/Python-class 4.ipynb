{
  "nbformat": 4,
  "nbformat_minor": 0,
  "metadata": {
    "colab": {
      "provenance": [],
      "toc_visible": true
    },
    "kernelspec": {
      "name": "python3",
      "display_name": "Python 3"
    },
    "language_info": {
      "name": "python"
    }
  },
  "cells": [
    {
      "cell_type": "code",
      "execution_count": null,
      "metadata": {
        "colab": {
          "base_uri": "https://localhost:8080/"
        },
        "id": "4vzt8sJqUfdz",
        "outputId": "cee4baa6-cc77-4c33-b258-ff86f22cbe26"
      },
      "outputs": [
        {
          "output_type": "stream",
          "name": "stdout",
          "text": [
            "\"Ab \n",
            " dus\"\n"
          ]
        }
      ],
      "source": [
        "print(\"\\\"Ab \\n dus\\\"\")"
      ]
    },
    {
      "cell_type": "markdown",
      "source": [
        "you should backslash for printing your ouptput in inverted commas"
      ],
      "metadata": {
        "id": "pA6RhXFya-y7"
      }
    },
    {
      "cell_type": "code",
      "source": [
        "print(\"Hello World\")"
      ],
      "metadata": {
        "colab": {
          "base_uri": "https://localhost:8080/"
        },
        "id": "BUcgaW4YXg1P",
        "outputId": "0bb9e73b-f8e7-4967-d2f9-8bf9eb9dfce1"
      },
      "execution_count": null,
      "outputs": [
        {
          "output_type": "stream",
          "name": "stdout",
          "text": [
            "Hello World\n"
          ]
        }
      ]
    },
    {
      "cell_type": "code",
      "source": [
        "Data_Analyst = \"\\\"Abdus Samad\\\"\""
      ],
      "metadata": {
        "id": "0lqTB5nabIq7"
      },
      "execution_count": null,
      "outputs": []
    },
    {
      "cell_type": "markdown",
      "source": [
        "for creating variable. while = is just assignment operator it has no mathematical value of equal.\n"
      ],
      "metadata": {
        "id": "Sw-SVOFSbwqf"
      }
    },
    {
      "cell_type": "code",
      "source": [
        "print(Data_Analyst)\n",
        "type(Data_Analyst)"
      ],
      "metadata": {
        "colab": {
          "base_uri": "https://localhost:8080/"
        },
        "id": "lyr6rGyWb_2f",
        "outputId": "413f8066-fceb-4693-8d8d-43b48aeb9a76"
      },
      "execution_count": null,
      "outputs": [
        {
          "output_type": "stream",
          "name": "stdout",
          "text": [
            "\"Abdus Samad\"\n"
          ]
        },
        {
          "output_type": "execute_result",
          "data": {
            "text/plain": [
              "str"
            ]
          },
          "metadata": {},
          "execution_count": 4
        }
      ]
    },
    {
      "cell_type": "code",
      "source": [
        "age = 21\n",
        "print(age)\n",
        "print(type(age))\n",
        "length = 6.7\n",
        "print(type(length))\n",
        "comp = 5 + 2j\n",
        "print(type(comp))"
      ],
      "metadata": {
        "colab": {
          "base_uri": "https://localhost:8080/"
        },
        "id": "_1FUC-oTccz1",
        "outputId": "6538f29a-1be9-4898-bfda-b16ee6babc43"
      },
      "execution_count": null,
      "outputs": [
        {
          "output_type": "stream",
          "name": "stdout",
          "text": [
            "21\n",
            "<class 'int'>\n",
            "<class 'float'>\n",
            "<class 'complex'>\n"
          ]
        }
      ]
    },
    {
      "cell_type": "markdown",
      "source": [
        "# **Numeric Types**\n",
        "\n",
        " **1- Integers** -- numbers without decimals\n",
        "like age = 20\n",
        "\n",
        "**2- Float** --- number with decimals\n",
        "like length = 5.20\n",
        "age = 20.0 these are all floating data\n",
        "\n",
        "**3- Complex** -- imaginary number\n",
        "comp = 5 + 2j \"j is iota notation in python\n"
      ],
      "metadata": {
        "id": "tvrU1NmPdGBu"
      }
    },
    {
      "cell_type": "code",
      "source": [],
      "metadata": {
        "id": "4ipXHrZudEI9"
      },
      "execution_count": null,
      "outputs": []
    },
    {
      "cell_type": "code",
      "source": [
        "#Arthematic ops\n",
        "num1 = 2\n",
        "num2 = 8\n",
        "print(num1 + num2)\n",
        "print(num1 - num2)\n",
        "print(num1*num2)\n",
        "print(num1 / num2)\n",
        "print(num1**num2)"
      ],
      "metadata": {
        "colab": {
          "base_uri": "https://localhost:8080/"
        },
        "id": "5nGZ2KSQemBK",
        "outputId": "98af54a6-da43-4bb2-817d-b70c8d512643"
      },
      "execution_count": null,
      "outputs": [
        {
          "output_type": "stream",
          "name": "stdout",
          "text": [
            "10\n",
            "-6\n",
            "16\n",
            "0.25\n",
            "256\n"
          ]
        }
      ]
    },
    {
      "cell_type": "code",
      "source": [
        "#Boolean\n"
      ],
      "metadata": {
        "id": "Mv4JSGvTfReo"
      },
      "execution_count": null,
      "outputs": []
    },
    {
      "cell_type": "markdown",
      "source": [
        "# Boolean\n",
        "\n",
        "True -> 1\n",
        "False -> 0"
      ],
      "metadata": {
        "id": "c2Jwc0JgfX8S"
      }
    },
    {
      "cell_type": "code",
      "source": [
        "name1 = input(\"please enter your name: \")"
      ],
      "metadata": {
        "colab": {
          "base_uri": "https://localhost:8080/"
        },
        "id": "vq4M7h6Tfxya",
        "outputId": "aef840c0-3fe8-4913-bf5f-f345aec9af6b"
      },
      "execution_count": null,
      "outputs": [
        {
          "name": "stdout",
          "output_type": "stream",
          "text": [
            "please enter your name: 786\n"
          ]
        }
      ]
    },
    {
      "cell_type": "markdown",
      "source": [],
      "metadata": {
        "id": "TUCwi7UzhORc"
      }
    },
    {
      "cell_type": "code",
      "source": [
        "name1= int(input(\"please ener your age: \"))"
      ],
      "metadata": {
        "colab": {
          "base_uri": "https://localhost:8080/"
        },
        "id": "se-K2AJVhBcW",
        "outputId": "e17c5d42-9904-4766-e93a-223bc28099b0"
      },
      "execution_count": null,
      "outputs": [
        {
          "name": "stdout",
          "output_type": "stream",
          "text": [
            "please ener your age: 8890\n"
          ]
        }
      ]
    },
    {
      "cell_type": "markdown",
      "source": [
        "this function wil take only integers and not take string"
      ],
      "metadata": {
        "id": "Xs0KnukBhR6-"
      }
    },
    {
      "cell_type": "code",
      "source": [
        "print(name1)"
      ],
      "metadata": {
        "colab": {
          "base_uri": "https://localhost:8080/"
        },
        "id": "AAF9lkJWgP6w",
        "outputId": "30f75bf2-e398-47ab-8d05-0e10d8bee379"
      },
      "execution_count": null,
      "outputs": [
        {
          "output_type": "stream",
          "name": "stdout",
          "text": [
            "8890\n"
          ]
        }
      ]
    },
    {
      "cell_type": "code",
      "source": [
        "#convergence precedence\n",
        "int(20.2)\n",
        "str(20.2)\n",
        "float(20)\n",
        "str(\"Twenty\")"
      ],
      "metadata": {
        "colab": {
          "base_uri": "https://localhost:8080/",
          "height": 35
        },
        "id": "0vimpzeEhcxF",
        "outputId": "126e3cde-bc6a-459f-9f58-b531df7aa525"
      },
      "execution_count": null,
      "outputs": [
        {
          "output_type": "execute_result",
          "data": {
            "text/plain": [
              "'Twenty'"
            ],
            "application/vnd.google.colaboratory.intrinsic+json": {
              "type": "string"
            }
          },
          "metadata": {},
          "execution_count": 11
        }
      ]
    },
    {
      "cell_type": "markdown",
      "source": [
        "here numeric to string is possible but string to numeric isn't like int(\"twenty) this will give us error."
      ],
      "metadata": {
        "id": "Z0iUksGWjPu4"
      }
    },
    {
      "cell_type": "code",
      "source": [
        "#Strings\n",
        "name = \"Abdus Samad\"\n",
        "print(name)\n",
        "#Indexes, how to find index of any data\n",
        "print(name[0])\n",
        "#how to call particular words from name\n",
        "print(name[0]+name[1]+name[2]+name[3]+name[4])\n",
        "#alternate way that is slicing:\n",
        "print(name[0:5])\n",
        "#Concatenation\n",
        "print(\"Hello \" + \"World\")\n",
        "print(\"5\" + \"1\") #it is adding it as string case not numeric\n",
        "len(name)\n",
        "#max index = length of sequence -1\n",
        "print(len(name)-1)"
      ],
      "metadata": {
        "id": "St1Gc0D5iBnm",
        "colab": {
          "base_uri": "https://localhost:8080/"
        },
        "outputId": "e69aacf4-4299-462a-d85b-84b9ac45b980"
      },
      "execution_count": null,
      "outputs": [
        {
          "output_type": "stream",
          "name": "stdout",
          "text": [
            "Abdus Samad\n",
            "A\n",
            "Abdus\n",
            "Abdus\n",
            "Hello World\n",
            "51\n",
            "10\n"
          ]
        }
      ]
    },
    {
      "cell_type": "code",
      "source": [
        "#List\n",
        "li = [\"Abdus Samad\", 22, \"Data Science\", 5,\"Babar\"]\n",
        "print(li[1])\n",
        "print(li[2:5])\n",
        "len(li)"
      ],
      "metadata": {
        "colab": {
          "base_uri": "https://localhost:8080/"
        },
        "id": "fN5klEDaZI5B",
        "outputId": "0f93c528-6a05-484d-d6e4-2a515bce7d9f"
      },
      "execution_count": null,
      "outputs": [
        {
          "output_type": "stream",
          "name": "stdout",
          "text": [
            "22\n",
            "['Data Science', 5, 'Babar']\n"
          ]
        },
        {
          "output_type": "execute_result",
          "data": {
            "text/plain": [
              "5"
            ]
          },
          "metadata": {},
          "execution_count": 65
        }
      ]
    },
    {
      "cell_type": "code",
      "source": [
        "#Mutable\n",
        "#add value in a list by indicating index and value that you want to add\n",
        "li.insert(1, \"LUMS\")\n",
        "print(li)"
      ],
      "metadata": {
        "colab": {
          "base_uri": "https://localhost:8080/"
        },
        "id": "XLfUHE-5b0Cc",
        "outputId": "01905df5-5de9-44b6-ae4c-9b6fd89119aa"
      },
      "execution_count": null,
      "outputs": [
        {
          "output_type": "stream",
          "name": "stdout",
          "text": [
            "['Abdus Samad', 'LUMS', 22, 'Data Science', 5, 'Babar']\n"
          ]
        }
      ]
    },
    {
      "cell_type": "code",
      "source": [
        "#to remove the value, it will remove the value you want to\n",
        "li.remove(5)\n",
        "print(li)"
      ],
      "metadata": {
        "colab": {
          "base_uri": "https://localhost:8080/"
        },
        "id": "3j-qrxHJldUx",
        "outputId": "12a94b34-0d6b-4b4d-f1c3-af9db88fbb33"
      },
      "execution_count": null,
      "outputs": [
        {
          "output_type": "stream",
          "name": "stdout",
          "text": [
            "['Abdus Samad', 'LUMS', 22, 'Data Science', 'Babar']\n"
          ]
        }
      ]
    },
    {
      "cell_type": "code",
      "source": [
        "#add value at the end, use append\n",
        "li.append(56)\n",
        "print(li)"
      ],
      "metadata": {
        "colab": {
          "base_uri": "https://localhost:8080/"
        },
        "id": "k76t2wQjlZqR",
        "outputId": "15e7d355-20e6-4e24-a042-8acd28080a56"
      },
      "execution_count": null,
      "outputs": [
        {
          "output_type": "stream",
          "name": "stdout",
          "text": [
            "['Abdus Samad', 'LUMS', 22, 'Data Science', 'Babar', 56]\n"
          ]
        }
      ]
    },
    {
      "cell_type": "code",
      "source": [
        "#Tuple is nonmutable(cannot remove or add anything)\n",
        "tup = (12, 13, \"ABC\", 23, 24, \"DFG\")\n",
        "type(li)\n",
        "print(tup.count(13)) #it\"ll tell number of times specific value appear inn tuple\n",
        "tup.index(23)\n"
      ],
      "metadata": {
        "colab": {
          "base_uri": "https://localhost:8080/"
        },
        "id": "cOM7-C1EdONC",
        "outputId": "78ebcd75-1a0a-4e87-88aa-57313974866c"
      },
      "execution_count": null,
      "outputs": [
        {
          "output_type": "stream",
          "name": "stdout",
          "text": [
            "1\n"
          ]
        },
        {
          "output_type": "execute_result",
          "data": {
            "text/plain": [
              "3"
            ]
          },
          "metadata": {},
          "execution_count": 51
        }
      ]
    },
    {
      "cell_type": "code",
      "source": [
        "print((1,2) + (3,4)) #concatenation is possible un tuple"
      ],
      "metadata": {
        "colab": {
          "base_uri": "https://localhost:8080/"
        },
        "id": "Ee0mmaSZd5bA",
        "outputId": "0041d966-732b-4925-dbcb-1d47aec7714d"
      },
      "execution_count": null,
      "outputs": [
        {
          "output_type": "stream",
          "name": "stdout",
          "text": [
            "(1, 2, 3, 4)\n"
          ]
        }
      ]
    },
    {
      "cell_type": "markdown",
      "source": [
        "# Sequences\n",
        "\n",
        "**1- Strings** \n",
        "name = Numan Ahmad\n",
        "index, slicing, concatenation\n",
        "In string, you have to add up, you can do that by adding that.\n",
        "**List**\n",
        "**Tuple**\n"
      ],
      "metadata": {
        "id": "V9XU4XXtiIgU"
      }
    },
    {
      "cell_type": "code",
      "source": [
        "##Sets\n",
        "s = {12, 13, \"ABC\", 12}\n",
        "type(s) #pupose of set is not repaet the data.\n",
        "print(s) # we get only one value of 12 not two.\n",
        "s.add(14)\n",
        "print(s) # index isn't exist in set\n",
        "s.remove(12)\n",
        "print(s)"
      ],
      "metadata": {
        "colab": {
          "base_uri": "https://localhost:8080/"
        },
        "id": "NDzh7bgzgkij",
        "outputId": "717a4890-a977-49ab-d488-51c050d01135"
      },
      "execution_count": null,
      "outputs": [
        {
          "output_type": "stream",
          "name": "stdout",
          "text": [
            "{'ABC', 12, 13}\n",
            "{'ABC', 12, 13, 14}\n",
            "{'ABC', 13, 14}\n"
          ]
        }
      ]
    },
    {
      "cell_type": "code",
      "source": [
        "#Dictionary\n",
        "#we store values in pairs unlike list, tuples & set\n",
        "#key : Value\n",
        "Di = {22020557: \"Abdus\", 22020480:\"Fazeel\"}\n",
        "print(Di)\n",
        "Di_1 = {22020557: \"Abdus\", 22020480:\"Fazeel\", 22020480:\"Ahmad\"}\n",
        "print(Di) #Key will not repeat\n",
        "Di[22020320] = \"Ansha\"\n",
        "print(Di)\n",
        "Di.pop(22020480)\n",
        "Di.keys()\n",
        "Di.values()\n",
        "Di.items()"
      ],
      "metadata": {
        "colab": {
          "base_uri": "https://localhost:8080/"
        },
        "id": "jeiXFDDxiJ6Y",
        "outputId": "891773dd-c69f-42d3-84b7-7208369a5399"
      },
      "execution_count": null,
      "outputs": [
        {
          "output_type": "stream",
          "name": "stdout",
          "text": [
            "{22020557: 'Abdus', 22020480: 'Fazeel'}\n",
            "{22020557: 'Abdus', 22020480: 'Fazeel'}\n",
            "{22020557: 'Abdus', 22020480: 'Fazeel', 22020320: 'Ansha'}\n"
          ]
        },
        {
          "output_type": "execute_result",
          "data": {
            "text/plain": [
              "dict_items([(22020557, 'Abdus'), (22020320, 'Ansha')])"
            ]
          },
          "metadata": {},
          "execution_count": 62
        }
      ]
    },
    {
      "cell_type": "code",
      "source": [
        "aList = [\"PYnative\", [4, 8, 12, 16]]\n",
        "print(aList[0][1]) \n",
        "print(aList[1][3])  \n",
        "list1 = ['xyz', 'zara', 'PYnative']\n",
        "print (max(list1)) \n"
      ],
      "metadata": {
        "colab": {
          "base_uri": "https://localhost:8080/"
        },
        "id": "3_d_jF2oArii",
        "outputId": "40684526-c8c2-407a-c544-1640ef9cfbe8"
      },
      "execution_count": null,
      "outputs": [
        {
          "output_type": "stream",
          "name": "stdout",
          "text": [
            "Y\n",
            "16\n",
            "zara\n"
          ]
        }
      ]
    }
  ]
}
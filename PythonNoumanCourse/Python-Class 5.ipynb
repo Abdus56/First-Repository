{
 "cells": [
  {
   "cell_type": "code",
   "execution_count": 1,
   "id": "b44902e0",
   "metadata": {},
   "outputs": [
    {
     "name": "stdout",
     "output_type": "stream",
     "text": [
      "False\n"
     ]
    }
   ],
   "source": [
    "##If Condition:\n",
    "\n",
    "route1 = 6\n",
    "route2 = 8\n",
    "\n",
    "print(route1 > route2)"
   ]
  },
  {
   "cell_type": "code",
   "execution_count": null,
   "id": "904a3390",
   "metadata": {},
   "outputs": [],
   "source": [
    "## if route1 is less than route2 then choose route1"
   ]
  },
  {
   "cell_type": "code",
   "execution_count": 4,
   "id": "eeafe123",
   "metadata": {},
   "outputs": [
    {
     "name": "stdout",
     "output_type": "stream",
     "text": [
      "Take route1\n"
     ]
    }
   ],
   "source": [
    "if route1 < route2:\n",
    "  print(\"Take route1\")"
   ]
  },
  {
   "cell_type": "raw",
   "id": "c5db7afb",
   "metadata": {},
   "source": [
    "route3 = 6\n",
    "route4 =9\n",
    "\n",
    "if route4 < route3:\n",
    "print(\"Take route4\")"
   ]
  },
  {
   "cell_type": "raw",
   "id": "27c3d37b",
   "metadata": {},
   "source": [
    "90 - 100 -> Grade A\n",
    "80 - 100 -> Grade B\n",
    "70 - 80 -> Garde C\n",
    "60 - 70 -> Grade D\n",
    "Less than 60 -> Fail"
   ]
  },
  {
   "cell_type": "code",
   "execution_count": 16,
   "id": "2ce54e5e",
   "metadata": {},
   "outputs": [],
   "source": [
    "Mark = 390\n",
    "if Mark >= 90 and Mark <=100:\n",
    "    print(\"Grade A\")\n",
    "if Mark >= 80 and Mark < 90:\n",
    "    print(\"Grade B\")\n",
    "if Mark >= 70 and Mark < 80:\n",
    "    print(\"Grade C\")\n",
    "if Mark >= 60 and Mark < 70:\n",
    "    print(\"Grade D\")\n",
    "if Mark < 60:\n",
    "    print(\"Grade F\")\n",
    "## if not use and condition then we get multiple results"
   ]
  },
  {
   "cell_type": "code",
   "execution_count": 33,
   "id": "408faab4",
   "metadata": {},
   "outputs": [
    {
     "name": "stdout",
     "output_type": "stream",
     "text": [
      "Grade A\n"
     ]
    }
   ],
   "source": [
    "## by using elif will restrict the result only follows if and no need to use and.\n",
    "Mark = 90\n",
    "if Mark >= 90 and Mark <=100:\n",
    "    print(\"Grade A\")\n",
    "elif Mark >= 80 and Mark < 90:\n",
    "    print(\"Grade B\")\n",
    "elif Mark >= 70 and Mark < 80:\n",
    "    print(\"Grade C\")\n",
    "elif Mark >= 60 and Mark < 70:\n",
    "    print(\"Grade D\")\n",
    "else:\n",
    "    print(\"Fail\")\n",
    "##else we use when all condition didn't met."
   ]
  },
  {
   "cell_type": "code",
   "execution_count": 30,
   "id": "39e52978",
   "metadata": {},
   "outputs": [
    {
     "name": "stdout",
     "output_type": "stream",
     "text": [
      "89\n",
      "78\n",
      "89\n",
      "90\n",
      "65\n",
      "87\n",
      "45\n",
      "76\n",
      "81\n",
      "95\n",
      "70\n"
     ]
    }
   ],
   "source": [
    "##Loops:\n",
    "##For Loops:\n",
    "Marks = [89, 78, 89, 90, 65, 87, 45, 76,81, 95,70]\n",
    "\n",
    "for i in Marks:\n",
    "    print(i)"
   ]
  },
  {
   "cell_type": "code",
   "execution_count": 46,
   "id": "fda5a1ac",
   "metadata": {},
   "outputs": [
    {
     "name": "stdout",
     "output_type": "stream",
     "text": [
      "Grade B\n",
      "Grade C\n",
      "Grade B\n",
      "Grade A\n",
      "Grade D\n",
      "Grade B\n",
      "Fail\n",
      "Grade C\n",
      "Grade B\n",
      "Grade A\n",
      "Grade C\n",
      "Grade A\n"
     ]
    }
   ],
   "source": [
    "Marks = [89, 78, 89, 90, 65, 87, 45, 76,81, 95,70,90]\n",
    "for Mark in Marks:\n",
    "    if Mark >= 90 and Mark <=100:\n",
    "      print(\"Grade A\") \n",
    "    elif Mark >= 80 and Mark < 90:\n",
    "      print(\"Grade B\")\n",
    "    elif Mark >= 70 and Mark < 80:\n",
    "      print(\"Grade C\")\n",
    "    elif Mark >= 60 and Mark < 70:\n",
    "     print(\"Grade D\")\n",
    "    else:\n",
    "     print(\"Fail\")\n"
   ]
  },
  {
   "cell_type": "code",
   "execution_count": null,
   "id": "03d6c276",
   "metadata": {},
   "outputs": [],
   "source": []
  }
 ],
 "metadata": {
  "kernelspec": {
   "display_name": "Python 3 (ipykernel)",
   "language": "python",
   "name": "python3"
  },
  "language_info": {
   "codemirror_mode": {
    "name": "ipython",
    "version": 3
   },
   "file_extension": ".py",
   "mimetype": "text/x-python",
   "name": "python",
   "nbconvert_exporter": "python",
   "pygments_lexer": "ipython3",
   "version": "3.9.12"
  }
 },
 "nbformat": 4,
 "nbformat_minor": 5
}

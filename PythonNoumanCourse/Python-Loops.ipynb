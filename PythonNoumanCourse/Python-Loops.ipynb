{
 "cells": [
  {
   "cell_type": "code",
   "execution_count": 1,
   "id": "9bd6d07c",
   "metadata": {},
   "outputs": [
    {
     "name": "stdout",
     "output_type": "stream",
     "text": [
      "0\n",
      "1\n",
      "2\n",
      "3\n",
      "4\n",
      "5\n",
      "6\n",
      "7\n",
      "8\n",
      "9\n",
      "10\n"
     ]
    }
   ],
   "source": [
    "##While loop\n",
    "num= 0\n",
    "while num <=10:\n",
    "    print(num)\n",
    "    num= num+1"
   ]
  },
  {
   "cell_type": "code",
   "execution_count": 4,
   "id": "ae9ce9c1",
   "metadata": {},
   "outputs": [
    {
     "name": "stdout",
     "output_type": "stream",
     "text": [
      "89\n",
      "78\n",
      "89\n",
      "90\n",
      "65\n",
      "87\n",
      "45\n",
      "76\n",
      "81\n",
      "95\n",
      "70\n",
      "90\n"
     ]
    }
   ],
   "source": [
    "Marks = [89, 78, 89, 90, 65, 87, 45, 76,81, 95,70,90]\n",
    "\n",
    "i= 0 #->initialization\n",
    "while i < len(Marks): #-> condition\n",
    "    print(Marks[i])\n",
    "    i = i+1 #-> increment"
   ]
  },
  {
   "cell_type": "code",
   "execution_count": 13,
   "id": "c8f33f2a",
   "metadata": {},
   "outputs": [],
   "source": [
    "# Functions\n",
    "def num_multiply(num1,num2):\n",
    "    print(num1*num2)"
   ]
  },
  {
   "cell_type": "code",
   "execution_count": 14,
   "id": "b4dc8916",
   "metadata": {},
   "outputs": [
    {
     "name": "stdout",
     "output_type": "stream",
     "text": [
      "14\n"
     ]
    }
   ],
   "source": [
    "num_multiply(7,2)"
   ]
  },
  {
   "cell_type": "code",
   "execution_count": 27,
   "id": "f013b320",
   "metadata": {},
   "outputs": [],
   "source": [
    "def num_sqrt(num1):\n",
    "    print(num1 ** 2)"
   ]
  },
  {
   "cell_type": "code",
   "execution_count": 28,
   "id": "5d452247",
   "metadata": {},
   "outputs": [
    {
     "name": "stdout",
     "output_type": "stream",
     "text": [
      "9\n"
     ]
    }
   ],
   "source": [
    "num_sqrt(3)"
   ]
  },
  {
   "cell_type": "code",
   "execution_count": 24,
   "id": "797756a2",
   "metadata": {},
   "outputs": [],
   "source": [
    "def grade_num(marks):\n",
    "        if marks >= 90 and marks <=100:\n",
    "          print(\"Grade A\") \n",
    "        elif marks >= 80 and marks < 90:\n",
    "          print(\"Grade B\")\n",
    "        elif marks >= 70 and marks < 80:\n",
    "          print(\"Grade C\")\n",
    "        elif marks >= 60 and marks < 70:\n",
    "         print(\"Grade D\")\n",
    "        else:\n",
    "         print(\"Fail\")    "
   ]
  },
  {
   "cell_type": "code",
   "execution_count": 25,
   "id": "d20a5db2",
   "metadata": {},
   "outputs": [
    {
     "name": "stdout",
     "output_type": "stream",
     "text": [
      "Grade C\n"
     ]
    }
   ],
   "source": [
    "grade_num(78)"
   ]
  },
  {
   "cell_type": "code",
   "execution_count": 26,
   "id": "8c663a58",
   "metadata": {},
   "outputs": [
    {
     "name": "stdout",
     "output_type": "stream",
     "text": [
      "Grade B\n",
      "Grade C\n",
      "Grade B\n",
      "Grade A\n",
      "Grade D\n",
      "Grade B\n",
      "Fail\n",
      "Grade C\n",
      "Grade B\n",
      "Grade A\n",
      "Grade C\n",
      "Grade A\n"
     ]
    }
   ],
   "source": [
    "Marks = [89, 78, 89, 90, 65, 87, 45, 76,81, 95,70,90]\n",
    "for mark in Marks:\n",
    "    grade_num(mark)"
   ]
  }
 ],
 "metadata": {
  "kernelspec": {
   "display_name": "Python 3 (ipykernel)",
   "language": "python",
   "name": "python3"
  },
  "language_info": {
   "codemirror_mode": {
    "name": "ipython",
    "version": 3
   },
   "file_extension": ".py",
   "mimetype": "text/x-python",
   "name": "python",
   "nbconvert_exporter": "python",
   "pygments_lexer": "ipython3",
   "version": "3.9.12"
  }
 },
 "nbformat": 4,
 "nbformat_minor": 5
}
